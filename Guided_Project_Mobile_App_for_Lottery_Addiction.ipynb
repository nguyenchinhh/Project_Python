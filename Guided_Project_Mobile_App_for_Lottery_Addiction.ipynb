{
 "cells": [
  {
   "cell_type": "markdown",
   "id": "095ede60-d82f-4c5c-a714-22f5e59d4d75",
   "metadata": {},
   "source": [
    " # Ứng dụng Di Động Hỗ Trợ Người Nghiện Xổ Số - Phân tích xác suất\n",
    " \n",
    " ## Giới thiệu\n",
    " \n",
    " Dự án này tập trung vào việc phát triển logic cơ bản cho một **ứng dụng di động** giúp người sở hữu có thể **ước tính chính xác hơn cơ hội chiến thắng** của mình.\n",
    " \n",
    " ### Mục tiêu của dự án\n",
    " Chúng tôi sẽ xây dựng các hàm để tính toán xác suất trong trò chơi xổ số 6/49, bao gồm:\n",
    " - **Xác suất trúng giải độc đắc**với một vẽ duy nhất.\n",
    " - **Xác suất trúng giải độc đắc khi mua nhiều vé số** khác nhau.\n",
    " - **Xác suất có ít nhất 5, 4, 3 hoặc 2 số trúng trong một vé số**.\n",
    "\n",
    "\n",
    "Ngoài ra, chúng tôi cũng sẽ **phân tích dữ liệu lịch sử của xổ số 6/49 tại Canada**, bao gồm **3.665 kỳ quay số** từ **năm 1982 đến 2018** để có cái nhìn thực tế hơn về trò chơi này.\n",
    "\n",
    "Dự án này là **một mô phỏng thực tế**, giúp chúng tôi áp dụng các kiến thức về **xác suất, hoán vị và tổ hợp** vào một tình huống thực tế trong cuộc sống."
   ]
  },
  {
   "cell_type": "code",
   "execution_count": 28,
   "id": "33161da4-564f-4f8d-abcd-c061849cd44f",
   "metadata": {},
   "outputs": [],
   "source": [
    "# Hàm tính giai thừa\n",
    "def factorial(n):\n",
    "    gt = 1\n",
    "    for i in range(n,0,-1):\n",
    "        gt *= i\n",
    "    return gt\n",
    "    "
   ]
  },
  {
   "cell_type": "code",
   "execution_count": 29,
   "id": "0f609b22-8950-4ff7-9f52-24bd9498c95a",
   "metadata": {},
   "outputs": [],
   "source": [
    "def combinations(n,k):\n",
    "    return factorial(n) / (factorial(k) * factorial(n - k))"
   ]
  },
  {
   "cell_type": "code",
   "execution_count": null,
   "id": "ea777f79-6ad6-4800-b522-85e3a7f7679b",
   "metadata": {},
   "outputs": [],
   "source": []
  },
  {
   "cell_type": "code",
   "execution_count": 30,
   "id": "dd86035f-2d33-43d9-aaa2-a342e8775cb0",
   "metadata": {},
   "outputs": [],
   "source": [
    "#Xác suất một vé\n",
    "def one_ticket_probability(user_numbers):\n",
    "    n_combinations = combinations(49, 6)\n",
    "    probability_one_ticket = 1 / n_combinations\n",
    "    percentage_form = probability_one_ticket * 100\n",
    "\n",
    "    print('''Cơ hội trúng giải độc đắc với các số {} là {:.7f}%. Nói cách khác, bạn có 1 cơ hội trúng trong {}.'''\n",
    "          .format(user_numbers, percentage_form, int(n_combinations)))\n",
    "    \n",
    "    "
   ]
  },
  {
   "cell_type": "code",
   "execution_count": 31,
   "id": "272db5ba-f758-46ca-9038-4edbbddf480a",
   "metadata": {},
   "outputs": [
    {
     "name": "stdout",
     "output_type": "stream",
     "text": [
      "Cơ hội trúng giải độc đắc với các số [28, 8, 4, 0, 20, 14] là 0.0000072%. Nói cách khác, bạn có 1 cơ hội trúng trong 13983816.\n"
     ]
    }
   ],
   "source": [
    "one_ticket_probability([28, 8, 4, 0, 20, 14])"
   ]
  },
  {
   "cell_type": "code",
   "execution_count": 32,
   "id": "40863424-7589-4084-a71b-e7965749863f",
   "metadata": {},
   "outputs": [
    {
     "data": {
      "text/plain": [
       "(3665, 11)"
      ]
     },
     "execution_count": 32,
     "metadata": {},
     "output_type": "execute_result"
    }
   ],
   "source": [
    "# Historial Data Check for Canada Lottery (kiểm tra dữ liệu lịch sử cho xổ số Canada)\n",
    "import pandas as pd\n",
    "lottery_canada = pd.read_csv(\"649.csv\")\n",
    "lottery_canada.shape\n",
    "\n"
   ]
  },
  {
   "cell_type": "code",
   "execution_count": 33,
   "id": "7a9514f2-135a-40f2-9d5e-085e6e3ac8a2",
   "metadata": {},
   "outputs": [
    {
     "data": {
      "text/html": [
       "<div>\n",
       "<style scoped>\n",
       "    .dataframe tbody tr th:only-of-type {\n",
       "        vertical-align: middle;\n",
       "    }\n",
       "\n",
       "    .dataframe tbody tr th {\n",
       "        vertical-align: top;\n",
       "    }\n",
       "\n",
       "    .dataframe thead th {\n",
       "        text-align: right;\n",
       "    }\n",
       "</style>\n",
       "<table border=\"1\" class=\"dataframe\">\n",
       "  <thead>\n",
       "    <tr style=\"text-align: right;\">\n",
       "      <th></th>\n",
       "      <th>PRODUCT</th>\n",
       "      <th>DRAW NUMBER</th>\n",
       "      <th>SEQUENCE NUMBER</th>\n",
       "      <th>DRAW DATE</th>\n",
       "      <th>NUMBER DRAWN 1</th>\n",
       "      <th>NUMBER DRAWN 2</th>\n",
       "      <th>NUMBER DRAWN 3</th>\n",
       "      <th>NUMBER DRAWN 4</th>\n",
       "      <th>NUMBER DRAWN 5</th>\n",
       "      <th>NUMBER DRAWN 6</th>\n",
       "      <th>BONUS NUMBER</th>\n",
       "    </tr>\n",
       "  </thead>\n",
       "  <tbody>\n",
       "    <tr>\n",
       "      <th>0</th>\n",
       "      <td>649</td>\n",
       "      <td>1</td>\n",
       "      <td>0</td>\n",
       "      <td>6/12/1982</td>\n",
       "      <td>3</td>\n",
       "      <td>11</td>\n",
       "      <td>12</td>\n",
       "      <td>14</td>\n",
       "      <td>41</td>\n",
       "      <td>43</td>\n",
       "      <td>13</td>\n",
       "    </tr>\n",
       "    <tr>\n",
       "      <th>1</th>\n",
       "      <td>649</td>\n",
       "      <td>2</td>\n",
       "      <td>0</td>\n",
       "      <td>6/19/1982</td>\n",
       "      <td>8</td>\n",
       "      <td>33</td>\n",
       "      <td>36</td>\n",
       "      <td>37</td>\n",
       "      <td>39</td>\n",
       "      <td>41</td>\n",
       "      <td>9</td>\n",
       "    </tr>\n",
       "    <tr>\n",
       "      <th>2</th>\n",
       "      <td>649</td>\n",
       "      <td>3</td>\n",
       "      <td>0</td>\n",
       "      <td>6/26/1982</td>\n",
       "      <td>1</td>\n",
       "      <td>6</td>\n",
       "      <td>23</td>\n",
       "      <td>24</td>\n",
       "      <td>27</td>\n",
       "      <td>39</td>\n",
       "      <td>34</td>\n",
       "    </tr>\n",
       "  </tbody>\n",
       "</table>\n",
       "</div>"
      ],
      "text/plain": [
       "   PRODUCT  DRAW NUMBER  SEQUENCE NUMBER  DRAW DATE  NUMBER DRAWN 1  \\\n",
       "0      649            1                0  6/12/1982               3   \n",
       "1      649            2                0  6/19/1982               8   \n",
       "2      649            3                0  6/26/1982               1   \n",
       "\n",
       "   NUMBER DRAWN 2  NUMBER DRAWN 3  NUMBER DRAWN 4  NUMBER DRAWN 5  \\\n",
       "0              11              12              14              41   \n",
       "1              33              36              37              39   \n",
       "2               6              23              24              27   \n",
       "\n",
       "   NUMBER DRAWN 6  BONUS NUMBER  \n",
       "0              43            13  \n",
       "1              41             9  \n",
       "2              39            34  "
      ]
     },
     "execution_count": 33,
     "metadata": {},
     "output_type": "execute_result"
    }
   ],
   "source": [
    "lottery.head(3)"
   ]
  },
  {
   "cell_type": "code",
   "execution_count": 34,
   "id": "eeb7a435-8a7a-4966-a98c-df9ee9af7d11",
   "metadata": {},
   "outputs": [
    {
     "data": {
      "text/html": [
       "<div>\n",
       "<style scoped>\n",
       "    .dataframe tbody tr th:only-of-type {\n",
       "        vertical-align: middle;\n",
       "    }\n",
       "\n",
       "    .dataframe tbody tr th {\n",
       "        vertical-align: top;\n",
       "    }\n",
       "\n",
       "    .dataframe thead th {\n",
       "        text-align: right;\n",
       "    }\n",
       "</style>\n",
       "<table border=\"1\" class=\"dataframe\">\n",
       "  <thead>\n",
       "    <tr style=\"text-align: right;\">\n",
       "      <th></th>\n",
       "      <th>PRODUCT</th>\n",
       "      <th>DRAW NUMBER</th>\n",
       "      <th>SEQUENCE NUMBER</th>\n",
       "      <th>DRAW DATE</th>\n",
       "      <th>NUMBER DRAWN 1</th>\n",
       "      <th>NUMBER DRAWN 2</th>\n",
       "      <th>NUMBER DRAWN 3</th>\n",
       "      <th>NUMBER DRAWN 4</th>\n",
       "      <th>NUMBER DRAWN 5</th>\n",
       "      <th>NUMBER DRAWN 6</th>\n",
       "      <th>BONUS NUMBER</th>\n",
       "    </tr>\n",
       "  </thead>\n",
       "  <tbody>\n",
       "    <tr>\n",
       "      <th>3662</th>\n",
       "      <td>649</td>\n",
       "      <td>3589</td>\n",
       "      <td>0</td>\n",
       "      <td>6/13/2018</td>\n",
       "      <td>6</td>\n",
       "      <td>22</td>\n",
       "      <td>24</td>\n",
       "      <td>31</td>\n",
       "      <td>32</td>\n",
       "      <td>34</td>\n",
       "      <td>16</td>\n",
       "    </tr>\n",
       "    <tr>\n",
       "      <th>3663</th>\n",
       "      <td>649</td>\n",
       "      <td>3590</td>\n",
       "      <td>0</td>\n",
       "      <td>6/16/2018</td>\n",
       "      <td>2</td>\n",
       "      <td>15</td>\n",
       "      <td>21</td>\n",
       "      <td>31</td>\n",
       "      <td>38</td>\n",
       "      <td>49</td>\n",
       "      <td>8</td>\n",
       "    </tr>\n",
       "    <tr>\n",
       "      <th>3664</th>\n",
       "      <td>649</td>\n",
       "      <td>3591</td>\n",
       "      <td>0</td>\n",
       "      <td>6/20/2018</td>\n",
       "      <td>14</td>\n",
       "      <td>24</td>\n",
       "      <td>31</td>\n",
       "      <td>35</td>\n",
       "      <td>37</td>\n",
       "      <td>48</td>\n",
       "      <td>17</td>\n",
       "    </tr>\n",
       "  </tbody>\n",
       "</table>\n",
       "</div>"
      ],
      "text/plain": [
       "      PRODUCT  DRAW NUMBER  SEQUENCE NUMBER  DRAW DATE  NUMBER DRAWN 1  \\\n",
       "3662      649         3589                0  6/13/2018               6   \n",
       "3663      649         3590                0  6/16/2018               2   \n",
       "3664      649         3591                0  6/20/2018              14   \n",
       "\n",
       "      NUMBER DRAWN 2  NUMBER DRAWN 3  NUMBER DRAWN 4  NUMBER DRAWN 5  \\\n",
       "3662              22              24              31              32   \n",
       "3663              15              21              31              38   \n",
       "3664              24              31              35              37   \n",
       "\n",
       "      NUMBER DRAWN 6  BONUS NUMBER  \n",
       "3662              34            16  \n",
       "3663              49             8  \n",
       "3664              48            17  "
      ]
     },
     "execution_count": 34,
     "metadata": {},
     "output_type": "execute_result"
    }
   ],
   "source": [
    "lottery_canada.tail(3)"
   ]
  },
  {
   "cell_type": "code",
   "execution_count": null,
   "id": "ee3ca407-6dfd-465e-84e7-979a8c192e49",
   "metadata": {},
   "outputs": [],
   "source": []
  },
  {
   "cell_type": "code",
   "execution_count": 35,
   "id": "e19cf21e-61d5-4493-a7bc-9e1f66aaddbb",
   "metadata": {},
   "outputs": [],
   "source": [
    "# Function for Historical Data Check  (Chức năng kiểm tra dữ liệu lịch sử)\n",
    "def extract_numbers(row):\n",
    "    row = row[4:10]\n",
    "    row = set(row.values)\n",
    "    return row"
   ]
  },
  {
   "cell_type": "code",
   "execution_count": 36,
   "id": "08dbf944-9d9b-4360-a757-8741750ccb65",
   "metadata": {},
   "outputs": [
    {
     "data": {
      "text/plain": [
       "0    {3, 41, 11, 12, 43, 14}\n",
       "1    {33, 36, 37, 39, 8, 41}\n",
       "2     {1, 6, 39, 23, 24, 27}\n",
       "3     {3, 9, 10, 43, 13, 20}\n",
       "4    {34, 5, 14, 47, 21, 31}\n",
       "dtype: object"
      ]
     },
     "execution_count": 36,
     "metadata": {},
     "output_type": "execute_result"
    }
   ],
   "source": [
    "winning_numbers = lottery_canada.apply(extract_numbers, axis = 1)\n",
    "winning_numbers.head()"
   ]
  },
  {
   "cell_type": "code",
   "execution_count": 37,
   "id": "32c6a416-4d6f-4d74-940b-5d884873c6f5",
   "metadata": {},
   "outputs": [],
   "source": [
    "def check_historical_occurence(user_numbers, historical_numbers):\n",
    "    '''\n",
    "    user_numbers: a Python list\n",
    "    historical_numbers: một series pandas\n",
    "    '''\n",
    "    user_numbers_set = set(user_numbers)\n",
    "    check_occurrence = historical_numbers == user_numbers_set\n",
    "    n_occurrences = check_occurrence.sum()\n",
    "\n",
    "    if n_occurrences == 0:\n",
    "        print('''Tổ hợp số {} chưa từng xuất hiện.\n",
    "Điều này không có nghĩa là nó có nhiều khả năng xuất hiện hơn trong lần quay tiếp theo. \n",
    "Xác suất trúng giải độc đắc với tổ hợp {} trong lần quay tiếp theo là 0.0000072%.\n",
    "Nói cách khác, bạn có 1 cơ hội trúng trong 13.983.816.'''.format(user_numbers, user_numbers))\n",
    "        \n",
    "    else:\n",
    "        print('''Số lần tổ hợp số {} đã xuất hiện trong quá khứ là {}.\n",
    "Xác suất trúng giải độc đắc với tổ hợp {} trong lần quay tiếp theo là 0.0000072%.\n",
    "Nói cách khác, bạn có 1 cơ hội trúng trong 13.983.816.'''.format(user_numbers, n_occurrences, user_numbers))\n",
    "        \n",
    "\n",
    "    "
   ]
  },
  {
   "cell_type": "code",
   "execution_count": 38,
   "id": "95c26e27-1d76-4ef3-859f-313292fecfd2",
   "metadata": {},
   "outputs": [
    {
     "name": "stdout",
     "output_type": "stream",
     "text": [
      "Tổ hợp số [30, 36, 37, 39, 8, 41] chưa từng xuất hiện.\n",
      "Điều này không có nghĩa là nó có nhiều khả năng xuất hiện hơn trong lần quay tiếp theo. \n",
      "Xác suất trúng giải độc đắc với tổ hợp [30, 36, 37, 39, 8, 41] trong lần quay tiếp theo là 0.0000072%.\n",
      "Nói cách khác, bạn có 1 cơ hội trúng trong 13.983.816.\n"
     ]
    }
   ],
   "source": [
    "test_input = [30, 36, 37, 39, 8, 41]\n",
    "check_historical_occurence(test_input, winning_numbers)"
   ]
  },
  {
   "cell_type": "code",
   "execution_count": null,
   "id": "4d79a21b-6653-4b51-b950-74fc8b978862",
   "metadata": {},
   "outputs": [],
   "source": []
  },
  {
   "cell_type": "code",
   "execution_count": 41,
   "id": "146b3768-ff32-4293-89c9-1cf21adfda8a",
   "metadata": {},
   "outputs": [],
   "source": [
    "# Xác suất nhiều vé (Multi- ticket Probability)\n",
    "def multi_ticket_probability(n_tickets):\n",
    "    n_combinations = combinations(49, 6) # tong so to hop co the co\n",
    "\n",
    "    probability = n_tickets / n_combinations # xac suat trung \n",
    "    percentage_form = probability * 100 # chuyen xac suat thanh %\n",
    "\n",
    "    if n_tickets == 1:\n",
    "         print('''Xác suất trúng giải độc đắc với một vé là {:.6f}%.\n",
    "Nói cách khác, bạn có 1 cơ hội trúng trong {:,}.'''.format(percentage_form, int(n_combinations)))\n",
    "\n",
    "    else:\n",
    "        print('''Xác suất trúng giải độc đắc với một vé là {:.6f}%.\n",
    "Nói cách khác, bạn có 1 cơ hội trúng trong {:,}.'''.format(n_tickets, percentage_form, int(n_combinations)))\n",
    "    "
   ]
  },
  {
   "cell_type": "code",
   "execution_count": 42,
   "id": "8b573536-7043-41bb-a535-e8751d7c3bf9",
   "metadata": {},
   "outputs": [
    {
     "name": "stdout",
     "output_type": "stream",
     "text": [
      "Xác suất trúng giải độc đắc với một vé là 0.000007%.\n",
      "Nói cách khác, bạn có 1 cơ hội trúng trong 13,983,816.\n",
      "------------------------------\n",
      "Xác suất trúng giải độc đắc với một vé là 10.000000%.\n",
      "Nói cách khác, bạn có 1 cơ hội trúng trong 7.151123842018517e-05.\n",
      "------------------------------\n",
      "Xác suất trúng giải độc đắc với một vé là 100.000000%.\n",
      "Nói cách khác, bạn có 1 cơ hội trúng trong 0.0007151123842018516.\n",
      "------------------------------\n",
      "Xác suất trúng giải độc đắc với một vé là 1000.000000%.\n",
      "Nói cách khác, bạn có 1 cơ hội trúng trong 0.007151123842018516.\n",
      "------------------------------\n",
      "Xác suất trúng giải độc đắc với một vé là 1000000.000000%.\n",
      "Nói cách khác, bạn có 1 cơ hội trúng trong 7.151123842018517.\n",
      "------------------------------\n",
      "Xác suất trúng giải độc đắc với một vé là 6991908.000000%.\n",
      "Nói cách khác, bạn có 1 cơ hội trúng trong 50.0.\n",
      "------------------------------\n",
      "Xác suất trúng giải độc đắc với một vé là 13983861.000000%.\n",
      "Nói cách khác, bạn có 1 cơ hội trúng trong 100.0003218005729.\n",
      "------------------------------\n"
     ]
    }
   ],
   "source": [
    "test_input_2 = [1, 10, 100, 1000, 1000000, 6991908, 13983861]\n",
    "\n",
    "for test_input in test_input_2:\n",
    "    multi_ticket_probability(test_input)\n",
    "    print('------------------------------')"
   ]
  },
  {
   "cell_type": "code",
   "execution_count": null,
   "id": "9457078d-15de-4766-abfb-f2f5f5ed17eb",
   "metadata": {},
   "outputs": [],
   "source": []
  },
  {
   "cell_type": "code",
   "execution_count": 47,
   "id": "8f364a29-2885-4813-8215-8de3864f93a5",
   "metadata": {},
   "outputs": [],
   "source": [
    "# Less Winning Numbers - Functions (Ít số chiến thắng hơn - Chức năng)\n",
    "def probability_less_6(n_winning_numbers):\n",
    "\n",
    "    n_combinations_ticket = combinations(6, n_winning_numbers)\n",
    "    n_combinations_remaining = combinations(43, 6 - n_winning_numbers)\n",
    "    successful_outcomes = n_combinations_ticket * n_combinations_remaining\n",
    "\n",
    "    n_combinations_total = combinations(49, 6)\n",
    "    probability = successful_outcomes / n_combinations_total\n",
    "\n",
    "    probability_percentage = probability * 100\n",
    "    combinations_simplified = round(n_combinations_total / successful_outcomes)\n",
    "    print('''Xác suất để có {} số trùng khớp với vé này là {:.6f}%.\n",
    "Nói cách khác, bạn có 1 cơ hội trong {:,} để trúng.'''.format(n_winning_numbers, probability_percentage,\n",
    "                                                               int(combinations_simplified)))\n",
    "\n",
    "    "
   ]
  },
  {
   "cell_type": "code",
   "execution_count": 48,
   "id": "e3b86631-5493-4b53-84da-e8271d5b2fc0",
   "metadata": {},
   "outputs": [
    {
     "name": "stdout",
     "output_type": "stream",
     "text": [
      "Xác suất để có 1 số trùng khớp với vé này là 41.301945%.\n",
      "Nói cách khác, bạn có 1 cơ hội trong 2 để trúng.\n"
     ]
    }
   ],
   "source": [
    "probability_less_6(1)"
   ]
  },
  {
   "cell_type": "code",
   "execution_count": null,
   "id": "5f39de89-5944-45c2-8d79-85f03494ca84",
   "metadata": {},
   "outputs": [],
   "source": []
  },
  {
   "cell_type": "code",
   "execution_count": 52,
   "id": "1503cebe-a252-4dc2-839e-549d2563efec",
   "metadata": {},
   "outputs": [
    {
     "name": "stdout",
     "output_type": "stream",
     "text": [
      "Xác suất để có ÍT NHẤT 3 số trùng khớp là 1.863755%.\n",
      "Nói cách khác, bạn có 1 cơ hội trong 54 để trúng.\n"
     ]
    }
   ],
   "source": [
    "def probability_at_least(n_winning_numbers):\n",
    "    if n_winning_numbers < 2 or n_winning_numbers > 5:\n",
    "        print(\"Vui long nhap so luong so trung toi thieu tu 2 den 5\")\n",
    "        return \n",
    "\n",
    "    # tong so cach chon 6 so tu 49 so\n",
    "    total_combinations = combinations(49,6)\n",
    "\n",
    "    # tong so ve hop le\n",
    "    successful_outcomes = 0\n",
    "\n",
    "    # Cộng dồn số kết quả thành công cho các trường hợp từ n_winning_numbers đến 6 số trúng\n",
    "    for k in range(n_winning_numbers, 7):  # Duyệt từ n_winning_numbers đến 6\n",
    "        winning_combinations = combinations(6, k)  # Chọn k số trúng từ 6 số thắng\n",
    "        remaining_combinations = combinations(43, 6 - k)  # Chọn số còn lại từ 43 số không trúng\n",
    "        successful_outcomes += winning_combinations * remaining_combinations\n",
    "\n",
    "    # Xác suất tính theo phần trăm\n",
    "    probability = (successful_outcomes / total_combinations) * 100\n",
    "    odds = round(total_combinations / successful_outcomes)\n",
    "\n",
    "    # In kết quả ra màn hình\n",
    "    print(\"Xác suất để có ÍT NHẤT {} số trùng khớp là {:.6f}%.\".format(n_winning_numbers, probability))\n",
    "    print(\"Nói cách khác, bạn có 1 cơ hội trong {:,} để trúng.\".format(odds))\n",
    "\n",
    "# Ví dụ chạy thử hàm\n",
    "probability_at_least(3)\n",
    "    \n",
    "        "
   ]
  },
  {
   "cell_type": "code",
   "execution_count": null,
   "id": "2bac5414-15cd-4178-85dc-ce74e6842760",
   "metadata": {},
   "outputs": [],
   "source": []
  },
  {
   "cell_type": "code",
   "execution_count": null,
   "id": "d7c1a771-402a-4a2e-9cc6-007b034e69b3",
   "metadata": {},
   "outputs": [],
   "source": []
  }
 ],
 "metadata": {
  "kernelspec": {
   "display_name": "Python 3 (ipykernel)",
   "language": "python",
   "name": "python3"
  },
  "language_info": {
   "codemirror_mode": {
    "name": "ipython",
    "version": 3
   },
   "file_extension": ".py",
   "mimetype": "text/x-python",
   "name": "python",
   "nbconvert_exporter": "python",
   "pygments_lexer": "ipython3",
   "version": "3.12.7"
  }
 },
 "nbformat": 4,
 "nbformat_minor": 5
}
